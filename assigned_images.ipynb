{
 "cells": [
  {
   "cell_type": "code",
   "execution_count": 2,
   "metadata": {},
   "outputs": [],
   "source": [
    "import os\n",
    "import cv2\n",
    "import numpy as np\n",
    "from PIL import Image\n",
    "import fitz  # PyMuPDF"
   ]
  },
  {
   "cell_type": "code",
   "execution_count": 6,
   "metadata": {},
   "outputs": [
    {
     "data": {
      "text/plain": [
       "{'data_kk\\\\1253481.jpg': 273.1896166906285,\n",
       " 'data_kk\\\\1363796.jpeg': 190.7322558700792,\n",
       " 'data_kk\\\\anime-girl-mermaid-underwater-fantasy-2k-wallpaper-uhdpaper.com-557@2@a.jpg': 679.3636263327845,\n",
       " 'data_kk\\\\wallpaperflare.com_wallpaper (1).jpg': 128.30303202876925,\n",
       " 'data_kk\\\\wallpaperflare.com_wallpaper (2).jpg': 182.57190556392698,\n",
       " 'data_kk\\\\wallpaperflare.com_wallpaper (3).jpg': 108.92580889137267,\n",
       " 'data_kk\\\\wallpaperflare.com_wallpaper (4).jpg': 148.1001132691396,\n",
       " 'data_kk\\\\wallpaperflare.com_wallpaper (5).jpg': 246.73412591418602,\n",
       " 'data_kk\\\\wallpaperflare.com_wallpaper.jpg': 284.74186040999984}"
      ]
     },
     "execution_count": 6,
     "metadata": {},
     "output_type": "execute_result"
    }
   ],
   "source": [
    "# Define paths\n",
    "input_folder = 'data_kk'\n",
    "output_blur = 'kk_blur'\n",
    "output_noise = 'kk_noise'\n",
    "output_normal = 'kk_normal'\n",
    "\n",
    "# Create output folders if they don't exist\n",
    "os.makedirs(output_blur, exist_ok=True)\n",
    "os.makedirs(output_noise, exist_ok=True)\n",
    "os.makedirs(output_normal, exist_ok=True)\n",
    "\n",
    "def sobel_gradient(image):\n",
    "    \"\"\"Convert image to Sobel gradient.\"\"\"\n",
    "    gray_image = cv2.cvtColor(image, cv2.COLOR_BGR2GRAY)\n",
    "    sobel_x = cv2.Sobel(gray_image, cv2.CV_64F, 1, 0, ksize=5)\n",
    "    sobel_y = cv2.Sobel(gray_image, cv2.CV_64F, 0, 1, ksize=5)\n",
    "    sobel_magnitude = np.sqrt(sobel_x**2 + sobel_y**2)\n",
    "    return np.mean(sobel_magnitude)\n",
    "\n",
    "def process_image(file_path):\n",
    "    \"\"\"Process and convert image to Sobel form.\"\"\"\n",
    "    if file_path.lower().endswith('.pdf'):\n",
    "        # Convert PDF to images\n",
    "        doc = fitz.open(file_path)\n",
    "        for page_num in range(len(doc)):\n",
    "            page = doc[page_num]\n",
    "            pix = page.get_pixmap()\n",
    "            img = Image.frombytes(\"RGB\", [pix.width, pix.height], pix.samples)\n",
    "            img = cv2.cvtColor(np.array(img), cv2.COLOR_RGB2BGR)\n",
    "            yield img\n",
    "    else:\n",
    "        # Read image\n",
    "        image = cv2.imread(file_path)\n",
    "        yield image\n",
    "\n",
    "# Dictionary to hold image scores\n",
    "image_scores = {}\n",
    "\n",
    "# Process each image in the input folder\n",
    "for filename in os.listdir(input_folder):\n",
    "    file_path = os.path.join(input_folder, filename)\n",
    "    for img in process_image(file_path):\n",
    "        sobel_score = sobel_gradient(img)\n",
    "        image_scores[file_path] = sobel_score\n",
    "\n",
    "# Sort images based on Sobel scores\n",
    "sorted_images = sorted(image_scores.items(), key=lambda x: x[1])\n",
    "\n",
    "image_scores"
   ]
  },
  {
   "cell_type": "code",
   "execution_count": null,
   "metadata": {},
   "outputs": [],
   "source": [
    "# Process each image in the input folder\n",
    "for filename in os.listdir(input_folder):\n",
    "    file_path = os.path.join(input_folder, filename)\n",
    "    for img in process_image(file_path):\n",
    "        sobel_score = sobel_gradient(img)\n",
    "        image_scores[file_path] = sobel_score\n",
    "\n",
    "# Sort images based on Sobel scores\n",
    "sorted_images = sorted(image_scores.items(), key=lambda x: x[1])\n",
    "\n",
    "# Assign images to respective folders\n",
    "num_images = len(sorted_images)\n",
    "for i, (file_path, score) in enumerate(sorted_images):\n",
    "    if i == 0:  # Lowest Sobel score\n",
    "        output_path = os.path.join(output_blur, os.path.basename(file_path))\n",
    "    elif i == num_images - 1:  # Highest Sobel score\n",
    "        output_path = os.path.join(output_noise, os.path.basename(file_path))\n",
    "    else:  # Middle Sobel scores\n",
    "        output_path = os.path.join(output_normal, os.path.basename(file_path))\n",
    "\n",
    "    # Save the image\n",
    "    if file_path.lower().endswith('.pdf'):\n",
    "        # Save the Sobel image as a PNG\n",
    "        img = process_image(file_path).__next__()\n",
    "        sobel_img = sobel_gradient(img)  # Obtain the Sobel image\n",
    "        cv2.imwrite(output_path.replace('.pdf', '.png'), img)\n",
    "    else:\n",
    "        # Save the Sobel image\n",
    "        cv2.imwrite(output_path, cv2.imread(file_path))\n",
    "\n",
    "print(\"Processing complete.\")"
   ]
  }
 ],
 "metadata": {
  "kernelspec": {
   "display_name": "Python 3",
   "language": "python",
   "name": "python3"
  },
  "language_info": {
   "codemirror_mode": {
    "name": "ipython",
    "version": 3
   },
   "file_extension": ".py",
   "mimetype": "text/x-python",
   "name": "python",
   "nbconvert_exporter": "python",
   "pygments_lexer": "ipython3",
   "version": "3.10.6"
  }
 },
 "nbformat": 4,
 "nbformat_minor": 2
}
